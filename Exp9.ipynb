{
 "cells": [
  {
   "cell_type": "code",
   "execution_count": 2,
   "id": "6fcda76a",
   "metadata": {
    "id": "6fcda76a"
   },
   "outputs": [],
   "source": [
    "import pandas as pd\n",
    "import numpy as np\n",
    "df1=pd.read_csv(\"D:\\\\TCE\\\\Sem 6\\\\Data Science\\\\Swiggy1.csv\")"
   ]
  },
  {
   "cell_type": "code",
   "execution_count": 3,
   "id": "d0c47ac6",
   "metadata": {
    "id": "d0c47ac6",
    "outputId": "2995abe1-ec1d-49fb-ced5-826a0b7b19ac"
   },
   "outputs": [
    {
     "name": "stdout",
     "output_type": "stream",
     "text": [
      "COUNT OF NULL VALUES IN EACH COLUMN\n",
      " Restaurant Name               0\n",
      "Category                      0\n",
      "Rating                    17666\n",
      "Cost for two                  0\n",
      "Veg                           0\n",
      "city                          0\n",
      "Area                          0\n",
      "Locality                     24\n",
      "Address                       2\n",
      "Long Distance Delivery        0\n",
      "dtype: int64 \n",
      "\n",
      "\n"
     ]
    }
   ],
   "source": [
    "print(\"COUNT OF NULL VALUES IN EACH COLUMN\\n\",df1.isnull().sum(),\"\\n\\n\")"
   ]
  },
  {
   "cell_type": "code",
   "execution_count": 4,
   "id": "a0639ba8",
   "metadata": {
    "id": "a0639ba8",
    "outputId": "59b78171-19be-48a2-ded2-4fac8aaab942"
   },
   "outputs": [
    {
     "name": "stdout",
     "output_type": "stream",
     "text": [
      "COUNT OF NULL VALUES IN EACH COLUMN\n",
      " Restaurant Name           0\n",
      "Category                  0\n",
      "Rating                    0\n",
      "Cost for two              0\n",
      "Veg                       0\n",
      "city                      0\n",
      "Area                      0\n",
      "Locality                  0\n",
      "Address                   0\n",
      "Long Distance Delivery    0\n",
      "dtype: int64 \n",
      "\n",
      "\n"
     ]
    }
   ],
   "source": [
    "from sklearn.impute import SimpleImputer\n",
    "imputer = SimpleImputer(missing_values = np.nan,strategy = 'mean');\n",
    "imputer = imputer.fit(df1.iloc[:,2:3])\n",
    "df1.iloc[:,2:3] = imputer.transform(df1.iloc[:,2:3])\n",
    "df1=df1.dropna()\n",
    "print(\"COUNT OF NULL VALUES IN EACH COLUMN\\n\",df1.isnull().sum(),\"\\n\\n\")"
   ]
  },
  {
   "cell_type": "code",
   "execution_count": 5,
   "id": "40bb2833",
   "metadata": {
    "id": "40bb2833",
    "outputId": "bd9ca655-0ef4-45bb-b5a7-265d75fd949f"
   },
   "outputs": [
    {
     "data": {
      "text/html": [
       "<div>\n",
       "<style scoped>\n",
       "    .dataframe tbody tr th:only-of-type {\n",
       "        vertical-align: middle;\n",
       "    }\n",
       "\n",
       "    .dataframe tbody tr th {\n",
       "        vertical-align: top;\n",
       "    }\n",
       "\n",
       "    .dataframe thead th {\n",
       "        text-align: right;\n",
       "    }\n",
       "</style>\n",
       "<table border=\"1\" class=\"dataframe\">\n",
       "  <thead>\n",
       "    <tr style=\"text-align: right;\">\n",
       "      <th></th>\n",
       "      <th>Restaurant Name</th>\n",
       "      <th>Category</th>\n",
       "      <th>Rating</th>\n",
       "      <th>Cost for two</th>\n",
       "      <th>Veg</th>\n",
       "      <th>city</th>\n",
       "      <th>Area</th>\n",
       "      <th>Locality</th>\n",
       "      <th>Address</th>\n",
       "      <th>Long Distance Delivery</th>\n",
       "    </tr>\n",
       "  </thead>\n",
       "  <tbody>\n",
       "    <tr>\n",
       "      <th>0</th>\n",
       "      <td>KFC</td>\n",
       "      <td>American,Snacks,Biryani</td>\n",
       "      <td>0.717949</td>\n",
       "      <td>0.129032</td>\n",
       "      <td>False</td>\n",
       "      <td>Delhi</td>\n",
       "      <td>Paharganj</td>\n",
       "      <td>KFC Paharganj</td>\n",
       "      <td>KFC Restaurant 2154, Desh Bandhu Gupta Road, N...</td>\n",
       "      <td>0</td>\n",
       "    </tr>\n",
       "    <tr>\n",
       "      <th>1</th>\n",
       "      <td>McDonald's</td>\n",
       "      <td>American</td>\n",
       "      <td>0.820513</td>\n",
       "      <td>0.129032</td>\n",
       "      <td>False</td>\n",
       "      <td>Delhi</td>\n",
       "      <td>Kashmere Gate</td>\n",
       "      <td>Delhi ISBT DMRC (GF)</td>\n",
       "      <td>Delhi ISBT DMRC,ISBT DMRC Railway Station. Kas...</td>\n",
       "      <td>0</td>\n",
       "    </tr>\n",
       "    <tr>\n",
       "      <th>2</th>\n",
       "      <td>Haldiram's</td>\n",
       "      <td>Sweets,Snacks,North Indian</td>\n",
       "      <td>0.743590</td>\n",
       "      <td>0.112903</td>\n",
       "      <td>True</td>\n",
       "      <td>Delhi</td>\n",
       "      <td>Chandni Chowk</td>\n",
       "      <td>Chandni Chowk</td>\n",
       "      <td>1452/2 Near Fountain Chandni Chowk Delhi 110015</td>\n",
       "      <td>0</td>\n",
       "    </tr>\n",
       "    <tr>\n",
       "      <th>3</th>\n",
       "      <td>Chai Point</td>\n",
       "      <td>Bakery,Beverages,Maharashtrian,Snacks,Street F...</td>\n",
       "      <td>0.794872</td>\n",
       "      <td>0.048387</td>\n",
       "      <td>False</td>\n",
       "      <td>Delhi</td>\n",
       "      <td>Connaught Place</td>\n",
       "      <td>Connaught Place</td>\n",
       "      <td>Shop No - B1, B Block Middle circle , Connaugh...</td>\n",
       "      <td>0</td>\n",
       "    </tr>\n",
       "    <tr>\n",
       "      <th>4</th>\n",
       "      <td>Bikanervala Chandni Chowk</td>\n",
       "      <td>Street Food,Sweets</td>\n",
       "      <td>0.769231</td>\n",
       "      <td>0.129032</td>\n",
       "      <td>False</td>\n",
       "      <td>Delhi</td>\n",
       "      <td>Old Delhi</td>\n",
       "      <td>Old Delhi</td>\n",
       "      <td>382, NEAR FATEH PUR, CHANDNI CHOWK,110006</td>\n",
       "      <td>0</td>\n",
       "    </tr>\n",
       "    <tr>\n",
       "      <th>...</th>\n",
       "      <td>...</td>\n",
       "      <td>...</td>\n",
       "      <td>...</td>\n",
       "      <td>...</td>\n",
       "      <td>...</td>\n",
       "      <td>...</td>\n",
       "      <td>...</td>\n",
       "      <td>...</td>\n",
       "      <td>...</td>\n",
       "      <td>...</td>\n",
       "    </tr>\n",
       "    <tr>\n",
       "      <th>31799</th>\n",
       "      <td>Khukri Desi Mutton &amp; Chicken Point</td>\n",
       "      <td>Indian,Biryani,Beverages</td>\n",
       "      <td>0.719935</td>\n",
       "      <td>0.096774</td>\n",
       "      <td>False</td>\n",
       "      <td>Bareilly</td>\n",
       "      <td>Pheonix Mall</td>\n",
       "      <td>Phoenix Mall</td>\n",
       "      <td>Parvana Nagar Opp.Jingel Bell Public School Pi...</td>\n",
       "      <td>1</td>\n",
       "    </tr>\n",
       "    <tr>\n",
       "      <th>31800</th>\n",
       "      <td>Monis Restaurant</td>\n",
       "      <td>South Indian,Chinese,Snacks,Desserts,North Indian</td>\n",
       "      <td>0.719935</td>\n",
       "      <td>0.080645</td>\n",
       "      <td>True</td>\n",
       "      <td>Bareilly</td>\n",
       "      <td>Suncity Vistaar</td>\n",
       "      <td>Phoenix Mall</td>\n",
       "      <td>6 B Shop No.1 Vatika Suncity Vistaar Bareilly ...</td>\n",
       "      <td>1</td>\n",
       "    </tr>\n",
       "    <tr>\n",
       "      <th>31801</th>\n",
       "      <td>T3 Tasty Table Talks</td>\n",
       "      <td>Indian,Thalis</td>\n",
       "      <td>0.719935</td>\n",
       "      <td>0.064516</td>\n",
       "      <td>True</td>\n",
       "      <td>Bareilly</td>\n",
       "      <td>MahaNagar Colony</td>\n",
       "      <td>Phoenix Mall</td>\n",
       "      <td>117, Utsav-II, Ujjwal Phase - 1, Mahanagar Col...</td>\n",
       "      <td>1</td>\n",
       "    </tr>\n",
       "    <tr>\n",
       "      <th>31802</th>\n",
       "      <td>The Green Lemon</td>\n",
       "      <td>Indian</td>\n",
       "      <td>0.719935</td>\n",
       "      <td>0.129032</td>\n",
       "      <td>False</td>\n",
       "      <td>Bareilly</td>\n",
       "      <td>Chhoti Vihar</td>\n",
       "      <td>Phoenix Mall</td>\n",
       "      <td>Gate-1 Ashutosh City Near Phoenix Mall Pilibhi...</td>\n",
       "      <td>1</td>\n",
       "    </tr>\n",
       "    <tr>\n",
       "      <th>31803</th>\n",
       "      <td>Pizza Home City</td>\n",
       "      <td>Pizzas,Beverages,Pastas,Italian,Desserts,Snacks</td>\n",
       "      <td>0.719935</td>\n",
       "      <td>0.064516</td>\n",
       "      <td>True</td>\n",
       "      <td>Bareilly</td>\n",
       "      <td>Ashutosh City</td>\n",
       "      <td>Phoenix Mall</td>\n",
       "      <td>1st Floor Urmila Maurya House No.48 Near By Me...</td>\n",
       "      <td>1</td>\n",
       "    </tr>\n",
       "  </tbody>\n",
       "</table>\n",
       "<p>31778 rows × 10 columns</p>\n",
       "</div>"
      ],
      "text/plain": [
       "                          Restaurant Name  \\\n",
       "0                                     KFC   \n",
       "1                              McDonald's   \n",
       "2                              Haldiram's   \n",
       "3                              Chai Point   \n",
       "4               Bikanervala Chandni Chowk   \n",
       "...                                   ...   \n",
       "31799  Khukri Desi Mutton & Chicken Point   \n",
       "31800                    Monis Restaurant   \n",
       "31801                T3 Tasty Table Talks   \n",
       "31802                     The Green Lemon   \n",
       "31803                     Pizza Home City   \n",
       "\n",
       "                                                Category    Rating  \\\n",
       "0                                American,Snacks,Biryani  0.717949   \n",
       "1                                               American  0.820513   \n",
       "2                             Sweets,Snacks,North Indian  0.743590   \n",
       "3      Bakery,Beverages,Maharashtrian,Snacks,Street F...  0.794872   \n",
       "4                                     Street Food,Sweets  0.769231   \n",
       "...                                                  ...       ...   \n",
       "31799                           Indian,Biryani,Beverages  0.719935   \n",
       "31800  South Indian,Chinese,Snacks,Desserts,North Indian  0.719935   \n",
       "31801                                      Indian,Thalis  0.719935   \n",
       "31802                                             Indian  0.719935   \n",
       "31803    Pizzas,Beverages,Pastas,Italian,Desserts,Snacks  0.719935   \n",
       "\n",
       "       Cost for two    Veg      city               Area              Locality  \\\n",
       "0          0.129032  False     Delhi          Paharganj         KFC Paharganj   \n",
       "1          0.129032  False     Delhi      Kashmere Gate  Delhi ISBT DMRC (GF)   \n",
       "2          0.112903   True     Delhi      Chandni Chowk         Chandni Chowk   \n",
       "3          0.048387  False     Delhi    Connaught Place       Connaught Place   \n",
       "4          0.129032  False     Delhi          Old Delhi             Old Delhi   \n",
       "...             ...    ...       ...                ...                   ...   \n",
       "31799      0.096774  False  Bareilly       Pheonix Mall          Phoenix Mall   \n",
       "31800      0.080645   True  Bareilly    Suncity Vistaar          Phoenix Mall   \n",
       "31801      0.064516   True  Bareilly   MahaNagar Colony          Phoenix Mall   \n",
       "31802      0.129032  False  Bareilly       Chhoti Vihar          Phoenix Mall   \n",
       "31803      0.064516   True  Bareilly      Ashutosh City          Phoenix Mall   \n",
       "\n",
       "                                                 Address  \\\n",
       "0      KFC Restaurant 2154, Desh Bandhu Gupta Road, N...   \n",
       "1      Delhi ISBT DMRC,ISBT DMRC Railway Station. Kas...   \n",
       "2        1452/2 Near Fountain Chandni Chowk Delhi 110015   \n",
       "3      Shop No - B1, B Block Middle circle , Connaugh...   \n",
       "4              382, NEAR FATEH PUR, CHANDNI CHOWK,110006   \n",
       "...                                                  ...   \n",
       "31799  Parvana Nagar Opp.Jingel Bell Public School Pi...   \n",
       "31800  6 B Shop No.1 Vatika Suncity Vistaar Bareilly ...   \n",
       "31801  117, Utsav-II, Ujjwal Phase - 1, Mahanagar Col...   \n",
       "31802  Gate-1 Ashutosh City Near Phoenix Mall Pilibhi...   \n",
       "31803  1st Floor Urmila Maurya House No.48 Near By Me...   \n",
       "\n",
       "       Long Distance Delivery  \n",
       "0                           0  \n",
       "1                           0  \n",
       "2                           0  \n",
       "3                           0  \n",
       "4                           0  \n",
       "...                       ...  \n",
       "31799                       1  \n",
       "31800                       1  \n",
       "31801                       1  \n",
       "31802                       1  \n",
       "31803                       1  \n",
       "\n",
       "[31778 rows x 10 columns]"
      ]
     },
     "execution_count": 5,
     "metadata": {},
     "output_type": "execute_result"
    }
   ],
   "source": [
    "from sklearn.preprocessing import MinMaxScaler\n",
    "\n",
    "scaler = MinMaxScaler()\n",
    "model=scaler.fit(df1.iloc[:,2:4])\n",
    "df1.iloc[:,2:4]=model.transform(df1.iloc[:,2:4])\n",
    "\n",
    "# print scaled features\n",
    "df1"
   ]
  },
  {
   "cell_type": "code",
   "execution_count": 6,
   "id": "5c218c98",
   "metadata": {
    "id": "5c218c98",
    "outputId": "e8446241-4ff0-4772-9dfb-16b84eb2e8d0"
   },
   "outputs": [
    {
     "data": {
      "text/html": [
       "<div>\n",
       "<style scoped>\n",
       "    .dataframe tbody tr th:only-of-type {\n",
       "        vertical-align: middle;\n",
       "    }\n",
       "\n",
       "    .dataframe tbody tr th {\n",
       "        vertical-align: top;\n",
       "    }\n",
       "\n",
       "    .dataframe thead th {\n",
       "        text-align: right;\n",
       "    }\n",
       "</style>\n",
       "<table border=\"1\" class=\"dataframe\">\n",
       "  <thead>\n",
       "    <tr style=\"text-align: right;\">\n",
       "      <th></th>\n",
       "      <th>0</th>\n",
       "      <th>1</th>\n",
       "    </tr>\n",
       "  </thead>\n",
       "  <tbody>\n",
       "    <tr>\n",
       "      <th>0</th>\n",
       "      <td>0.847656</td>\n",
       "      <td>0.152344</td>\n",
       "    </tr>\n",
       "    <tr>\n",
       "      <th>1</th>\n",
       "      <td>0.864111</td>\n",
       "      <td>0.135889</td>\n",
       "    </tr>\n",
       "    <tr>\n",
       "      <th>2</th>\n",
       "      <td>0.868180</td>\n",
       "      <td>0.131820</td>\n",
       "    </tr>\n",
       "    <tr>\n",
       "      <th>3</th>\n",
       "      <td>0.942619</td>\n",
       "      <td>0.057381</td>\n",
       "    </tr>\n",
       "    <tr>\n",
       "      <th>4</th>\n",
       "      <td>0.856354</td>\n",
       "      <td>0.143646</td>\n",
       "    </tr>\n",
       "    <tr>\n",
       "      <th>...</th>\n",
       "      <td>...</td>\n",
       "      <td>...</td>\n",
       "    </tr>\n",
       "    <tr>\n",
       "      <th>31773</th>\n",
       "      <td>0.881507</td>\n",
       "      <td>0.118493</td>\n",
       "    </tr>\n",
       "    <tr>\n",
       "      <th>31774</th>\n",
       "      <td>0.899267</td>\n",
       "      <td>0.100733</td>\n",
       "    </tr>\n",
       "    <tr>\n",
       "      <th>31775</th>\n",
       "      <td>0.917756</td>\n",
       "      <td>0.082244</td>\n",
       "    </tr>\n",
       "    <tr>\n",
       "      <th>31776</th>\n",
       "      <td>0.848013</td>\n",
       "      <td>0.151987</td>\n",
       "    </tr>\n",
       "    <tr>\n",
       "      <th>31777</th>\n",
       "      <td>0.917756</td>\n",
       "      <td>0.082244</td>\n",
       "    </tr>\n",
       "  </tbody>\n",
       "</table>\n",
       "<p>31778 rows × 2 columns</p>\n",
       "</div>"
      ],
      "text/plain": [
       "              0         1\n",
       "0      0.847656  0.152344\n",
       "1      0.864111  0.135889\n",
       "2      0.868180  0.131820\n",
       "3      0.942619  0.057381\n",
       "4      0.856354  0.143646\n",
       "...         ...       ...\n",
       "31773  0.881507  0.118493\n",
       "31774  0.899267  0.100733\n",
       "31775  0.917756  0.082244\n",
       "31776  0.848013  0.151987\n",
       "31777  0.917756  0.082244\n",
       "\n",
       "[31778 rows x 2 columns]"
      ]
     },
     "execution_count": 6,
     "metadata": {},
     "output_type": "execute_result"
    }
   ],
   "source": [
    "from sklearn.preprocessing import normalize\n",
    "x_normalize=normalize(df1.iloc[:,2:4],norm='l1')\n",
    "x=pd.DataFrame(x_normalize)\n",
    "x"
   ]
  },
  {
   "cell_type": "code",
   "execution_count": 7,
   "id": "d919d6c5",
   "metadata": {
    "id": "d919d6c5",
    "outputId": "24f6ad09-b4f8-44ef-d390-b4cb5495d972"
   },
   "outputs": [
    {
     "name": "stdout",
     "output_type": "stream",
     "text": [
      "[[-2.52954576e-02  6.29775922e-01]\n",
      " [ 1.28890416e+00  6.29775922e-01]\n",
      " [ 3.03254446e-01  3.43940246e-01]\n",
      " ...\n",
      " [ 1.51008939e-04 -5.13566783e-01]\n",
      " [ 1.51008939e-04  6.29775922e-01]\n",
      " [ 1.51008939e-04 -5.13566783e-01]]\n"
     ]
    }
   ],
   "source": [
    "from sklearn.preprocessing import StandardScaler\n",
    "\n",
    "scaler = StandardScaler()\n",
    "model = scaler.fit(df1.iloc[:,2:4])\n",
    "scaled_data = model.transform(df1.iloc[:,2:4])\n",
    "\n",
    "# print scaled data\n",
    "print(scaled_data)  \n"
   ]
  },
  {
   "cell_type": "code",
   "execution_count": 8,
   "id": "4f4d0dd9",
   "metadata": {
    "id": "4f4d0dd9",
    "outputId": "224a0143-1edf-4d28-85af-b02417e5aabb"
   },
   "outputs": [
    {
     "data": {
      "text/html": [
       "<div>\n",
       "<style scoped>\n",
       "    .dataframe tbody tr th:only-of-type {\n",
       "        vertical-align: middle;\n",
       "    }\n",
       "\n",
       "    .dataframe tbody tr th {\n",
       "        vertical-align: top;\n",
       "    }\n",
       "\n",
       "    .dataframe thead th {\n",
       "        text-align: right;\n",
       "    }\n",
       "</style>\n",
       "<table border=\"1\" class=\"dataframe\">\n",
       "  <thead>\n",
       "    <tr style=\"text-align: right;\">\n",
       "      <th></th>\n",
       "      <th>Restaurant Name</th>\n",
       "      <th>Category</th>\n",
       "      <th>Rating</th>\n",
       "      <th>Cost for two</th>\n",
       "      <th>Veg</th>\n",
       "      <th>city</th>\n",
       "      <th>Area</th>\n",
       "      <th>Locality</th>\n",
       "      <th>Address</th>\n",
       "      <th>Long Distance Delivery</th>\n",
       "    </tr>\n",
       "  </thead>\n",
       "  <tbody>\n",
       "    <tr>\n",
       "      <th>0</th>\n",
       "      <td>11985</td>\n",
       "      <td>201</td>\n",
       "      <td>0.717949</td>\n",
       "      <td>0.129032</td>\n",
       "      <td>0</td>\n",
       "      <td>16</td>\n",
       "      <td>2297</td>\n",
       "      <td>1705</td>\n",
       "      <td>15364</td>\n",
       "      <td>0</td>\n",
       "    </tr>\n",
       "    <tr>\n",
       "      <th>1</th>\n",
       "      <td>14970</td>\n",
       "      <td>19</td>\n",
       "      <td>0.820513</td>\n",
       "      <td>0.129032</td>\n",
       "      <td>0</td>\n",
       "      <td>16</td>\n",
       "      <td>1434</td>\n",
       "      <td>929</td>\n",
       "      <td>11896</td>\n",
       "      <td>0</td>\n",
       "    </tr>\n",
       "    <tr>\n",
       "      <th>2</th>\n",
       "      <td>9836</td>\n",
       "      <td>9230</td>\n",
       "      <td>0.743590</td>\n",
       "      <td>0.112903</td>\n",
       "      <td>1</td>\n",
       "      <td>16</td>\n",
       "      <td>551</td>\n",
       "      <td>738</td>\n",
       "      <td>2253</td>\n",
       "      <td>0</td>\n",
       "    </tr>\n",
       "    <tr>\n",
       "      <th>3</th>\n",
       "      <td>5196</td>\n",
       "      <td>439</td>\n",
       "      <td>0.794872</td>\n",
       "      <td>0.048387</td>\n",
       "      <td>0</td>\n",
       "      <td>16</td>\n",
       "      <td>659</td>\n",
       "      <td>843</td>\n",
       "      <td>24138</td>\n",
       "      <td>0</td>\n",
       "    </tr>\n",
       "    <tr>\n",
       "      <th>4</th>\n",
       "      <td>3129</td>\n",
       "      <td>9080</td>\n",
       "      <td>0.769231</td>\n",
       "      <td>0.129032</td>\n",
       "      <td>0</td>\n",
       "      <td>16</td>\n",
       "      <td>2229</td>\n",
       "      <td>2925</td>\n",
       "      <td>5500</td>\n",
       "      <td>0</td>\n",
       "    </tr>\n",
       "    <tr>\n",
       "      <th>...</th>\n",
       "      <td>...</td>\n",
       "      <td>...</td>\n",
       "      <td>...</td>\n",
       "      <td>...</td>\n",
       "      <td>...</td>\n",
       "      <td>...</td>\n",
       "      <td>...</td>\n",
       "      <td>...</td>\n",
       "      <td>...</td>\n",
       "      <td>...</td>\n",
       "    </tr>\n",
       "    <tr>\n",
       "      <th>31799</th>\n",
       "      <td>12634</td>\n",
       "      <td>4258</td>\n",
       "      <td>0.719935</td>\n",
       "      <td>0.096774</td>\n",
       "      <td>0</td>\n",
       "      <td>7</td>\n",
       "      <td>2410</td>\n",
       "      <td>3279</td>\n",
       "      <td>19497</td>\n",
       "      <td>1</td>\n",
       "    </tr>\n",
       "    <tr>\n",
       "      <th>31800</th>\n",
       "      <td>15546</td>\n",
       "      <td>8696</td>\n",
       "      <td>0.719935</td>\n",
       "      <td>0.080645</td>\n",
       "      <td>1</td>\n",
       "      <td>7</td>\n",
       "      <td>3137</td>\n",
       "      <td>3279</td>\n",
       "      <td>7079</td>\n",
       "      <td>1</td>\n",
       "    </tr>\n",
       "    <tr>\n",
       "      <th>31801</th>\n",
       "      <td>23181</td>\n",
       "      <td>5033</td>\n",
       "      <td>0.719935</td>\n",
       "      <td>0.064516</td>\n",
       "      <td>1</td>\n",
       "      <td>7</td>\n",
       "      <td>27</td>\n",
       "      <td>3279</td>\n",
       "      <td>1475</td>\n",
       "      <td>1</td>\n",
       "    </tr>\n",
       "    <tr>\n",
       "      <th>31802</th>\n",
       "      <td>24893</td>\n",
       "      <td>4190</td>\n",
       "      <td>0.719935</td>\n",
       "      <td>0.129032</td>\n",
       "      <td>0</td>\n",
       "      <td>7</td>\n",
       "      <td>589</td>\n",
       "      <td>3279</td>\n",
       "      <td>13489</td>\n",
       "      <td>1</td>\n",
       "    </tr>\n",
       "    <tr>\n",
       "      <th>31803</th>\n",
       "      <td>18209</td>\n",
       "      <td>7597</td>\n",
       "      <td>0.719935</td>\n",
       "      <td>0.064516</td>\n",
       "      <td>1</td>\n",
       "      <td>7</td>\n",
       "      <td>247</td>\n",
       "      <td>3279</td>\n",
       "      <td>3204</td>\n",
       "      <td>1</td>\n",
       "    </tr>\n",
       "  </tbody>\n",
       "</table>\n",
       "<p>31778 rows × 10 columns</p>\n",
       "</div>"
      ],
      "text/plain": [
       "       Restaurant Name  Category    Rating  Cost for two  Veg  city  Area  \\\n",
       "0                11985       201  0.717949      0.129032    0    16  2297   \n",
       "1                14970        19  0.820513      0.129032    0    16  1434   \n",
       "2                 9836      9230  0.743590      0.112903    1    16   551   \n",
       "3                 5196       439  0.794872      0.048387    0    16   659   \n",
       "4                 3129      9080  0.769231      0.129032    0    16  2229   \n",
       "...                ...       ...       ...           ...  ...   ...   ...   \n",
       "31799            12634      4258  0.719935      0.096774    0     7  2410   \n",
       "31800            15546      8696  0.719935      0.080645    1     7  3137   \n",
       "31801            23181      5033  0.719935      0.064516    1     7    27   \n",
       "31802            24893      4190  0.719935      0.129032    0     7   589   \n",
       "31803            18209      7597  0.719935      0.064516    1     7   247   \n",
       "\n",
       "       Locality  Address  Long Distance Delivery  \n",
       "0          1705    15364                       0  \n",
       "1           929    11896                       0  \n",
       "2           738     2253                       0  \n",
       "3           843    24138                       0  \n",
       "4          2925     5500                       0  \n",
       "...         ...      ...                     ...  \n",
       "31799      3279    19497                       1  \n",
       "31800      3279     7079                       1  \n",
       "31801      3279     1475                       1  \n",
       "31802      3279    13489                       1  \n",
       "31803      3279     3204                       1  \n",
       "\n",
       "[31778 rows x 10 columns]"
      ]
     },
     "execution_count": 8,
     "metadata": {},
     "output_type": "execute_result"
    }
   ],
   "source": [
    "from sklearn.preprocessing import LabelEncoder\n",
    "l_encoder = LabelEncoder()\n",
    "df1[\"city\"] = l_encoder.fit_transform(df1.iloc[:,5])\n",
    "df1[\"Area\"] = l_encoder.fit_transform(df1.iloc[:,6])\n",
    "df1[\"Locality\"] = l_encoder.fit_transform(df1.iloc[:,7])\n",
    "df1[\"Address\"] = l_encoder.fit_transform(df1.iloc[:,8])\n",
    "df1[\"Veg\"]=l_encoder.fit_transform(df1.iloc[:,4])\n",
    "df1[\"Restaurant Name\"]=l_encoder.fit_transform(df1.iloc[:,0])\n",
    "df1[\"Category\"]=l_encoder.fit_transform(df1.iloc[:,1])\n",
    "df1"
   ]
  },
  {
   "cell_type": "code",
   "execution_count": 9,
   "id": "be088004",
   "metadata": {
    "id": "be088004"
   },
   "outputs": [],
   "source": [
    "#Splitting of data for training and testing\n",
    "from sklearn.model_selection import train_test_split\n",
    "X_train, X_test, y_train, y_test = train_test_split(df1.drop('Veg',axis=1), df1['Veg'],train_size=0.70,test_size=0.30)"
   ]
  },
  {
   "cell_type": "code",
   "execution_count": null,
   "id": "ea58cb4c",
   "metadata": {
    "id": "ea58cb4c"
   },
   "outputs": [],
   "source": [
    "from sklearn.linear_model import LogisticRegression\n",
    "logmodel = LogisticRegression()\n",
    "logmodel.fit(X_train,y_train)\n",
    "predictions = logmodel.predict(X_test)"
   ]
  },
  {
   "cell_type": "code",
   "execution_count": null,
   "id": "bf4350ee",
   "metadata": {
    "id": "bf4350ee",
    "outputId": "5117f200-a1c0-42d8-f0b5-1bb9b59d1b5c"
   },
   "outputs": [
    {
     "name": "stdout",
     "output_type": "stream",
     "text": [
      "              precision    recall  f1-score   support\n",
      "\n",
      "           0       0.73      1.00      0.84      6961\n",
      "           1       0.64      0.02      0.04      2573\n",
      "\n",
      "    accuracy                           0.73      9534\n",
      "   macro avg       0.69      0.51      0.44      9534\n",
      "weighted avg       0.71      0.73      0.63      9534\n",
      "\n"
     ]
    }
   ],
   "source": [
    "from sklearn.metrics import classification_report\n",
    "print(classification_report(y_test,predictions))"
   ]
  },
  {
   "cell_type": "code",
   "execution_count": null,
   "id": "83c09843",
   "metadata": {
    "id": "83c09843",
    "outputId": "fa4679d6-6240-4757-9a04-d2b80ae59ee3"
   },
   "outputs": [
    {
     "name": "stdout",
     "output_type": "stream",
     "text": [
      "[[6930   31]\n",
      " [2518   55]]\n"
     ]
    }
   ],
   "source": [
    "from sklearn.metrics import confusion_matrix\n",
    "cf_matrix = confusion_matrix(y_test,predictions)\n",
    "print(cf_matrix)"
   ]
  },
  {
   "cell_type": "code",
   "execution_count": null,
   "id": "6ecf317b",
   "metadata": {
    "id": "6ecf317b",
    "outputId": "9c2c949a-e089-4413-be15-fea5fa7d55d2"
   },
   "outputs": [
    {
     "data": {
      "text/plain": [
       "<Axes: >"
      ]
     },
     "execution_count": 23,
     "metadata": {},
     "output_type": "execute_result"
    },
    {
     "data": {
      "image/png": "[encoded data removed]",
      "text/plain": [
       "<Figure size 640x480 with 2 Axes>"
      ]
     },
     "metadata": {},
     "output_type": "display_data"
    }
   ],
   "source": [
    "labels = ['True Negative','False Positive','False Negative','True Positive']\n",
    "labels = np.asarray(labels).reshape(2,2)\n",
    "sns.heatmap(cf_matrix/np.sum(cf_matrix), annot=labels, fmt='', cmap='GnBu')"
   ]
  },
  {
   "cell_type": "code",
   "execution_count": null,
   "id": "358bbd78",
   "metadata": {
    "id": "358bbd78"
   },
   "outputs": [],
   "source": [
    "#Decision Tree model\n",
    "from sklearn.tree import DecisionTreeClassifier\n",
    "classifier = DecisionTreeClassifier(criterion='entropy',random_state=0) \n",
    "classifier.fit(X_train,y_train)\n",
    "predictions = classifier.predict(X_test)"
   ]
  },
  {
   "cell_type": "code",
   "execution_count": null,
   "id": "c8c18c37",
   "metadata": {
    "id": "c8c18c37",
    "outputId": "88168aa3-2b8e-4ae0-9674-bc6301d64b09"
   },
   "outputs": [
    {
     "name": "stdout",
     "output_type": "stream",
     "text": [
      "              precision    recall  f1-score   support\n",
      "\n",
      "           0       0.79      0.78      0.78      6961\n",
      "           1       0.42      0.43      0.43      2573\n",
      "\n",
      "    accuracy                           0.69      9534\n",
      "   macro avg       0.60      0.61      0.61      9534\n",
      "weighted avg       0.69      0.69      0.69      9534\n",
      "\n"
     ]
    }
   ],
   "source": [
    "print(classification_report(y_test,predictions))"
   ]
  },
  {
   "cell_type": "code",
   "execution_count": null,
   "id": "b95968ce",
   "metadata": {
    "id": "b95968ce",
    "outputId": "40e4b0ec-4570-4218-dc8d-d9900c58c163"
   },
   "outputs": [
    {
     "name": "stdout",
     "output_type": "stream",
     "text": [
      "[[5416 1545]\n",
      " [1455 1118]]\n"
     ]
    },
    {
     "data": {
      "text/plain": [
       "<Axes: >"
      ]
     },
     "execution_count": 28,
     "metadata": {},
     "output_type": "execute_result"
    },
    {
     "data": {
      "image/png": "[encoded data removed]",
      "text/plain": [
       "<Figure size 640x480 with 2 Axes>"
      ]
     },
     "metadata": {},
     "output_type": "display_data"
    }
   ],
   "source": [
    "cf_matrix = confusion_matrix(y_test,predictions)\n",
    "print(cf_matrix)\n",
    "labels = ['True Negative','False Positive','False Negative','True Positive']\n",
    "labels = np.asarray(labels).reshape(2,2)\n",
    "sns.heatmap(cf_matrix/np.sum(cf_matrix), annot=labels, fmt='', cmap='GnBu')"
   ]
  },
  {
   "cell_type": "code",
   "execution_count": null,
   "id": "24b00378",
   "metadata": {
    "id": "24b00378"
   },
   "outputs": [],
   "source": [
    "from sklearn.linear_model import LinearRegression\n",
    "logmodel = LinearRegression()\n",
    "logmodel.fit(X_train,y_train)\n",
    "predictions = logmodel.predict(X_test)"
   ]
  },
  {
   "cell_type": "code",
   "execution_count": null,
   "id": "a808e0dd",
   "metadata": {
    "id": "a808e0dd",
    "outputId": "24f25091-81f0-4052-89b7-3016790c241b"
   },
   "outputs": [
    {
     "name": "stdout",
     "output_type": "stream",
     "text": [
      "0.18853186610222142\n",
      "0.434202563445014\n"
     ]
    }
   ],
   "source": [
    "from sklearn.metrics import mean_squared_error\n",
    "import math\n",
    "print(mean_squared_error(y_test, predictions))\n",
    "print(math.sqrt(mean_squared_error(y_test, predictions)))"
   ]
  },
  {
   "cell_type": "code",
   "execution_count": null,
   "id": "26f8e76e",
   "metadata": {
    "id": "26f8e76e",
    "outputId": "7b707e05-317a-409f-8ca3-12b7551345df"
   },
   "outputs": [
    {
     "name": "stdout",
     "output_type": "stream",
     "text": [
      "0.3807869599926493\n"
     ]
    }
   ],
   "source": [
    "from sklearn.metrics import mean_absolute_error\n",
    "print(mean_absolute_error(y_test, predictions))"
   ]
  },
  {
   "cell_type": "code",
   "execution_count": null,
   "id": "4f84b4e7",
   "metadata": {
    "id": "4f84b4e7",
    "outputId": "a8a7c9d0-7bcf-45d8-f709-3d3db0304940"
   },
   "outputs": [
    {
     "name": "stdout",
     "output_type": "stream",
     "text": [
      "Epoch 1/100\n",
      "696/696 [==============================] - 2s 2ms/step - loss: 151.4181\n",
      "Epoch 2/100\n",
      "696/696 [==============================] - 1s 2ms/step - loss: 1.1514\n",
      "Epoch 3/100\n",
      "696/696 [==============================] - 1s 2ms/step - loss: 1.1733\n",
      "Epoch 4/100\n",
      "696/696 [==============================] - 1s 2ms/step - loss: 1.5440\n",
      "Epoch 5/100\n",
      "696/696 [==============================] - 1s 2ms/step - loss: 1.4549\n",
      "Epoch 6/100\n",
      "696/696 [==============================] - 1s 2ms/step - loss: 1.2649\n",
      "Epoch 7/100\n",
      "696/696 [==============================] - 2s 2ms/step - loss: 1.2488\n",
      "Epoch 8/100\n",
      "696/696 [==============================] - 1s 2ms/step - loss: 1.4707\n",
      "Epoch 9/100\n",
      "696/696 [==============================] - 2s 2ms/step - loss: 1.2831\n",
      "Epoch 10/100\n",
      "696/696 [==============================] - 2s 2ms/step - loss: 1.4570\n",
      "Epoch 11/100\n",
      "696/696 [==============================] - 1s 2ms/step - loss: 1.3412\n",
      "Epoch 12/100\n",
      "696/696 [==============================] - 1s 2ms/step - loss: 1.4136\n",
      "Epoch 13/100\n",
      "696/696 [==============================] - 1s 2ms/step - loss: 1.4253\n",
      "Epoch 14/100\n",
      "696/696 [==============================] - 1s 2ms/step - loss: 1.3543\n",
      "Epoch 15/100\n",
      "696/696 [==============================] - 1s 2ms/step - loss: 1.1511\n",
      "Epoch 16/100\n",
      "696/696 [==============================] - 1s 2ms/step - loss: 1.2566\n",
      "Epoch 17/100\n",
      "696/696 [==============================] - 1s 2ms/step - loss: 1.5914\n",
      "Epoch 18/100\n",
      "696/696 [==============================] - 1s 2ms/step - loss: 1.3774\n",
      "Epoch 19/100\n",
      "696/696 [==============================] - 2s 2ms/step - loss: 1.2325\n",
      "Epoch 20/100\n",
      "696/696 [==============================] - 2s 2ms/step - loss: 1.5243\n",
      "Epoch 21/100\n",
      "696/696 [==============================] - 2s 2ms/step - loss: 1.2627\n",
      "Epoch 22/100\n",
      "696/696 [==============================] - 1s 2ms/step - loss: 1.3839\n",
      "Epoch 23/100\n",
      "696/696 [==============================] - 1s 2ms/step - loss: 1.3127\n",
      "Epoch 24/100\n",
      "696/696 [==============================] - 1s 2ms/step - loss: 1.3055\n",
      "Epoch 25/100\n",
      "696/696 [==============================] - 1s 2ms/step - loss: 1.3983\n",
      "Epoch 26/100\n",
      "696/696 [==============================] - 1s 2ms/step - loss: 1.3036\n",
      "Epoch 27/100\n",
      "696/696 [==============================] - 1s 2ms/step - loss: 1.3571\n",
      "Epoch 28/100\n",
      "696/696 [==============================] - 1s 2ms/step - loss: 1.2870\n",
      "Epoch 29/100\n",
      "696/696 [==============================] - 1s 2ms/step - loss: 1.3369\n",
      "Epoch 30/100\n",
      "696/696 [==============================] - 1s 2ms/step - loss: 1.2990\n",
      "Epoch 31/100\n",
      "696/696 [==============================] - 1s 2ms/step - loss: 1.2569\n",
      "Epoch 32/100\n",
      "696/696 [==============================] - 2s 2ms/step - loss: 1.4024\n",
      "Epoch 33/100\n",
      "696/696 [==============================] - 2s 2ms/step - loss: 1.3552\n",
      "Epoch 34/100\n",
      "696/696 [==============================] - 1s 2ms/step - loss: 1.3688\n",
      "Epoch 35/100\n",
      "696/696 [==============================] - 1s 2ms/step - loss: 1.3027\n",
      "Epoch 36/100\n",
      "696/696 [==============================] - 1s 2ms/step - loss: 1.1575\n",
      "Epoch 37/100\n",
      "696/696 [==============================] - 1s 2ms/step - loss: 1.3267\n",
      "Epoch 38/100\n",
      "696/696 [==============================] - 1s 2ms/step - loss: 1.3872\n",
      "Epoch 39/100\n",
      "696/696 [==============================] - 1s 2ms/step - loss: 1.3229\n",
      "Epoch 40/100\n",
      "696/696 [==============================] - 1s 2ms/step - loss: 1.5316\n",
      "Epoch 41/100\n",
      "696/696 [==============================] - 1s 2ms/step - loss: 1.4603\n",
      "Epoch 42/100\n",
      "696/696 [==============================] - 1s 2ms/step - loss: 1.4630\n",
      "Epoch 43/100\n",
      "696/696 [==============================] - 1s 2ms/step - loss: 1.3800\n",
      "Epoch 44/100\n",
      "696/696 [==============================] - 2s 2ms/step - loss: 1.1467\n",
      "Epoch 45/100\n",
      "696/696 [==============================] - 2s 2ms/step - loss: 1.4026\n",
      "Epoch 46/100\n",
      "696/696 [==============================] - 1s 2ms/step - loss: 1.3677\n",
      "Epoch 47/100\n",
      "696/696 [==============================] - 1s 2ms/step - loss: 1.3981\n",
      "Epoch 48/100\n",
      "696/696 [==============================] - 1s 2ms/step - loss: 1.4310\n",
      "Epoch 49/100\n",
      "696/696 [==============================] - 1s 2ms/step - loss: 1.4483\n",
      "Epoch 50/100\n",
      "696/696 [==============================] - 1s 2ms/step - loss: 1.4526\n",
      "Epoch 51/100\n",
      "696/696 [==============================] - 1s 2ms/step - loss: 1.2284\n",
      "Epoch 52/100\n",
      "696/696 [==============================] - 1s 2ms/step - loss: 1.3808\n",
      "Epoch 53/100\n",
      "696/696 [==============================] - 1s 2ms/step - loss: 1.3554\n",
      "Epoch 54/100\n",
      "696/696 [==============================] - 1s 2ms/step - loss: 1.2907\n",
      "Epoch 55/100\n",
      "696/696 [==============================] - 1s 2ms/step - loss: 1.4834\n",
      "Epoch 56/100\n",
      "696/696 [==============================] - 2s 2ms/step - loss: 1.1628\n",
      "Epoch 57/100\n",
      "696/696 [==============================] - 2s 2ms/step - loss: 1.3054\n",
      "Epoch 58/100\n",
      "696/696 [==============================] - 1s 2ms/step - loss: 1.4134\n",
      "Epoch 59/100\n",
      "696/696 [==============================] - 1s 2ms/step - loss: 1.4737\n",
      "Epoch 60/100\n",
      "696/696 [==============================] - 1s 2ms/step - loss: 1.3650\n",
      "Epoch 61/100\n",
      "696/696 [==============================] - 1s 2ms/step - loss: 1.2753\n",
      "Epoch 62/100\n",
      "696/696 [==============================] - 1s 2ms/step - loss: 1.2783\n",
      "Epoch 63/100\n",
      "696/696 [==============================] - 1s 2ms/step - loss: 1.3336\n",
      "Epoch 64/100\n",
      "696/696 [==============================] - 1s 2ms/step - loss: 1.4523\n",
      "Epoch 65/100\n",
      "696/696 [==============================] - 1s 2ms/step - loss: 1.5016\n",
      "Epoch 66/100\n",
      "696/696 [==============================] - 1s 2ms/step - loss: 1.2705\n",
      "Epoch 67/100\n",
      "696/696 [==============================] - 1s 2ms/step - loss: 1.3911\n",
      "Epoch 68/100\n",
      "696/696 [==============================] - 2s 2ms/step - loss: 1.3627\n",
      "Epoch 69/100\n",
      "696/696 [==============================] - 2s 2ms/step - loss: 1.5859\n",
      "Epoch 70/100\n",
      "696/696 [==============================] - 1s 2ms/step - loss: 1.2927\n",
      "Epoch 71/100\n",
      "696/696 [==============================] - 1s 2ms/step - loss: 1.1260\n",
      "Epoch 72/100\n",
      "696/696 [==============================] - 1s 2ms/step - loss: 1.2247\n",
      "Epoch 73/100\n",
      "696/696 [==============================] - 1s 2ms/step - loss: 1.4037\n",
      "Epoch 74/100\n",
      "696/696 [==============================] - 1s 2ms/step - loss: 1.2592\n",
      "Epoch 75/100\n",
      "696/696 [==============================] - 1s 2ms/step - loss: 1.3362\n",
      "Epoch 76/100\n",
      "696/696 [==============================] - 1s 2ms/step - loss: 1.5318\n",
      "Epoch 77/100\n",
      "696/696 [==============================] - 1s 2ms/step - loss: 1.3925\n",
      "Epoch 78/100\n",
      "696/696 [==============================] - 1s 2ms/step - loss: 1.2180\n",
      "Epoch 79/100\n",
      "696/696 [==============================] - 1s 2ms/step - loss: 1.3309\n",
      "Epoch 80/100\n",
      "696/696 [==============================] - 2s 2ms/step - loss: 1.3671\n",
      "Epoch 81/100\n",
      "696/696 [==============================] - 2s 2ms/step - loss: 1.0463\n",
      "Epoch 82/100\n",
      "696/696 [==============================] - 2s 2ms/step - loss: 1.4064\n",
      "Epoch 83/100\n",
      "696/696 [==============================] - 1s 2ms/step - loss: 1.3194\n",
      "Epoch 84/100\n",
      "696/696 [==============================] - 1s 2ms/step - loss: 1.3277\n",
      "Epoch 85/100\n",
      "696/696 [==============================] - 1s 2ms/step - loss: 1.2896\n",
      "Epoch 86/100\n",
      "696/696 [==============================] - 1s 2ms/step - loss: 1.5225\n",
      "Epoch 87/100\n",
      "696/696 [==============================] - 1s 2ms/step - loss: 1.2167\n",
      "Epoch 88/100\n",
      "696/696 [==============================] - 1s 2ms/step - loss: 1.2012\n",
      "Epoch 89/100\n",
      "696/696 [==============================] - 1s 2ms/step - loss: 1.3635\n",
      "Epoch 90/100\n",
      "696/696 [==============================] - 1s 2ms/step - loss: 1.3648\n",
      "Epoch 91/100\n",
      "696/696 [==============================] - 1s 2ms/step - loss: 1.3105\n",
      "Epoch 92/100\n",
      "696/696 [==============================] - 2s 2ms/step - loss: 1.3037\n",
      "Epoch 93/100\n",
      "696/696 [==============================] - 2s 2ms/step - loss: 1.3425\n",
      "Epoch 94/100\n",
      "696/696 [==============================] - 1s 2ms/step - loss: 1.2929\n",
      "Epoch 95/100\n",
      "696/696 [==============================] - 1s 2ms/step - loss: 1.1360\n",
      "Epoch 96/100\n",
      "696/696 [==============================] - 1s 2ms/step - loss: 1.1987\n",
      "Epoch 97/100\n",
      "696/696 [==============================] - 1s 2ms/step - loss: 1.2474\n",
      "Epoch 98/100\n",
      "696/696 [==============================] - 1s 2ms/step - loss: 1.4075\n",
      "Epoch 99/100\n",
      "696/696 [==============================] - 1s 2ms/step - loss: 1.2421\n",
      "Epoch 100/100\n",
      "696/696 [==============================] - 1s 2ms/step - loss: 1.3346\n"
     ]
    },
    {
     "data": {
      "text/plain": [
       "<keras.callbacks.History at 0x2a40d796590>"
      ]
     },
     "execution_count": 16,
     "metadata": {},
     "output_type": "execute_result"
    }
   ],
   "source": [
    "#Neural Network\n",
    "\n",
    "import tensorflow as tf\n",
    "from tensorflow.keras.datasets import imdb\n",
    "from tensorflow.keras.models import Sequential\n",
    "from tensorflow.keras.layers import Dense\n",
    "from tensorflow.keras.layers import LSTM\n",
    "from tensorflow.keras.layers import Embedding\n",
    "from tensorflow.keras.preprocessing import sequence\n",
    "# fix random seed for reproducibility\n",
    " \n",
    "model = Sequential()\n",
    "model.add(Dense(1, input_dim=X_train.shape[1], activation='sigmoid', kernel_initializer='normal'))\n",
    "model.compile(loss='binary_crossentropy', optimizer='adam')\n",
    "model.fit(X_train, y_train, epochs=100)"
   ]
  },
  {
   "cell_type": "code",
   "execution_count": null,
   "id": "2f2444bc",
   "metadata": {
    "id": "2f2444bc",
    "outputId": "b2061723-d7f6-45b9-be89-b4301603eca0"
   },
   "outputs": [
    {
     "name": "stdout",
     "output_type": "stream",
     "text": [
      "298/298 [==============================] - 1s 2ms/step\n",
      "              precision    recall  f1-score   support\n",
      "\n",
      "           0       0.86      0.00      0.01      6932\n",
      "           1       0.27      1.00      0.43      2602\n",
      "\n",
      "    accuracy                           0.28      9534\n",
      "   macro avg       0.57      0.50      0.22      9534\n",
      "weighted avg       0.70      0.28      0.12      9534\n",
      "\n"
     ]
    }
   ],
   "source": [
    "predictions = model.predict(X_test)\n",
    "predictions = np.round(predictions).astype(int)\n",
    "print(classification_report(y_test,predictions))"
   ]
  },
  {
   "cell_type": "code",
   "execution_count": null,
   "id": "d98321ac",
   "metadata": {
    "id": "d98321ac",
    "outputId": "2b73128f-8048-4a8a-da87-0f2001ea3034"
   },
   "outputs": [
    {
     "name": "stdout",
     "output_type": "stream",
     "text": [
      "[[  25 6907]\n",
      " [   4 2598]]\n"
     ]
    },
    {
     "data": {
      "text/plain": [
       "<Axes: >"
      ]
     },
     "execution_count": 20,
     "metadata": {},
     "output_type": "execute_result"
    },
    {
     "data": {
      "image/png": "[encoded data removed]",
      "text/plain": [
       "<Figure size 640x480 with 2 Axes>"
      ]
     },
     "metadata": {},
     "output_type": "display_data"
    }
   ],
   "source": [
    "#Confusion matrix\n",
    "from sklearn.metrics import confusion_matrix\n",
    "import seaborn as sns\n",
    "cf_matrix = confusion_matrix(y_test,predictions)\n",
    "print(cf_matrix)\n",
    "labels = ['True Negative','False Positive','False Negative','True Positive']\n",
    "labels = np.asarray(labels).reshape(2,2)\n",
    "sns.heatmap(cf_matrix/np.sum(cf_matrix), annot=labels, fmt='', cmap='GnBu')"
   ]
  },
  {
   "cell_type": "code",
   "execution_count": 10,
   "id": "440d8799",
   "metadata": {
    "id": "440d8799",
    "outputId": "7631d484-c8f2-4cbe-933a-420217d01b3f"
   },
   "outputs": [
    {
     "name": "stdout",
     "output_type": "stream",
     "text": [
      "0.7506743391476354\n"
     ]
    }
   ],
   "source": [
    "from sklearn.ensemble import RandomForestClassifier\n",
    "rf_original = RandomForestClassifier(oob_score=True)\n",
    "rf_original.fit(X_train,y_train)\n",
    "print(rf_original.oob_score_)\n",
    "predictions=rf_original.predict(X_test)"
   ]
  },
  {
   "cell_type": "code",
   "execution_count": 12,
   "id": "56e9417c",
   "metadata": {
    "id": "56e9417c"
   },
   "outputs": [
    {
     "name": "stdout",
     "output_type": "stream",
     "text": [
      "              precision    recall  f1-score   support\n",
      "\n",
      "           0       0.78      0.94      0.85      6955\n",
      "           1       0.63      0.30      0.41      2579\n",
      "\n",
      "    accuracy                           0.76      9534\n",
      "   macro avg       0.71      0.62      0.63      9534\n",
      "weighted avg       0.74      0.76      0.73      9534\n",
      "\n"
     ]
    }
   ],
   "source": [
    "from sklearn.metrics import classification_report\n",
    "print(classification_report(y_test,predictions))"
   ]
  },
  {
   "cell_type": "code",
   "execution_count": 14,
   "id": "4f772683",
   "metadata": {},
   "outputs": [
    {
     "name": "stdout",
     "output_type": "stream",
     "text": [
      "[[6506  449]\n",
      " [1808  771]]\n"
     ]
    }
   ],
   "source": [
    "from sklearn.metrics import confusion_matrix\n",
    "cf_matrix = confusion_matrix(y_test,predictions)\n",
    "print(cf_matrix)"
   ]
  },
  {
   "cell_type": "code",
   "execution_count": 18,
   "id": "261bf139",
   "metadata": {},
   "outputs": [
    {
     "data": {
      "text/plain": [
       "<AxesSubplot:>"
      ]
     },
     "execution_count": 18,
     "metadata": {},
     "output_type": "execute_result"
    },
    {
     "data": {
      "image/png": "[encoded data removed]",
      "text/plain": [
       "<Figure size 640x480 with 2 Axes>"
      ]
     },
     "metadata": {},
     "output_type": "display_data"
    }
   ],
   "source": [
    "import seaborn as sns\n",
    "labels = ['True Negative','False Positive','False Negative','True Positive']\n",
    "labels = np.asarray(labels).reshape(2,2)\n",
    "sns.heatmap(cf_matrix/np.sum(cf_matrix), annot=labels, fmt='', cmap='GnBu')"
   ]
  },
  {
   "cell_type": "code",
   "execution_count": null,
   "id": "df6962e9",
   "metadata": {},
   "outputs": [],
   "source": []
  }
 ],
 "metadata": {
  "colab": {
   "provenance": []
  },
  "kernelspec": {
   "display_name": "Python 3 (ipykernel)",
   "language": "python",
   "name": "python3"
  },
  "language_info": {
   "codemirror_mode": {
    "name": "ipython",
    "version": 3
   },
   "file_extension": ".py",
   "mimetype": "text/x-python",
   "name": "python",
   "nbconvert_exporter": "python",
   "pygments_lexer": "ipython3",
   "version": "3.9.13"
  }
 },
 "nbformat": 4,
 "nbformat_minor": 5
}
